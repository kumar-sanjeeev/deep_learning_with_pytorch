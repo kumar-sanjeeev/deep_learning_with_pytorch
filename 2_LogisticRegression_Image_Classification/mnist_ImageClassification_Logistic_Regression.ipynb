{
  "nbformat": 4,
  "nbformat_minor": 0,
  "metadata": {
    "colab": {
      "name": "Hand_Written_digits_ImageClassification-Logistic_Regression.ipynb",
      "provenance": [],
      "collapsed_sections": []
    },
    "kernelspec": {
      "name": "python3",
      "display_name": "Python 3"
    },
    "language_info": {
      "name": "python"
    }
  },
  "cells": [
    {
      "cell_type": "code",
      "execution_count": 71,
      "metadata": {
        "id": "0VmCzdBPtGP8"
      },
      "outputs": [],
      "source": [
        "# Importing libraries\n",
        "import numpy as np\n",
        "import matplotlib.pyplot as plt\n",
        "import torch"
      ]
    },
    {
      "cell_type": "code",
      "source": [
        "# importing torchvision for working with Image data and downloading data using classes\n",
        "import torchvision\n",
        "from torchvision.datasets import MNIST \n",
        "\n",
        "train_dataset = MNIST(root='data/', train= True, download= True)\n",
        "test_dataset = MNIST(root='data/', train= False, download= True)\n",
        "\n",
        "print(len(train_dataset))\n",
        "print(len(test_dataset))"
      ],
      "metadata": {
        "colab": {
          "base_uri": "https://localhost:8080/"
        },
        "id": "CKugEFH_tWpn",
        "outputId": "f758766d-9a29-474b-8701-d24f1e6d4f8e"
      },
      "execution_count": 72,
      "outputs": [
        {
          "output_type": "stream",
          "name": "stdout",
          "text": [
            "60000\n",
            "10000\n"
          ]
        }
      ]
    },
    {
      "cell_type": "code",
      "source": [
        "# checking the type of train and test dataset\n",
        "# it is pair having image and label\n",
        "print(train_dataset[0])\n",
        "print(test_dataset[0])"
      ],
      "metadata": {
        "colab": {
          "base_uri": "https://localhost:8080/"
        },
        "id": "J1-5u04JudG4",
        "outputId": "41e50a96-59de-4280-f02c-3bb9e017d81d"
      },
      "execution_count": 73,
      "outputs": [
        {
          "output_type": "stream",
          "name": "stdout",
          "text": [
            "(<PIL.Image.Image image mode=L size=28x28 at 0x7F0427DDC810>, 5)\n",
            "(<PIL.Image.Image image mode=L size=28x28 at 0x7F0427D3A9D0>, 7)\n"
          ]
        }
      ]
    },
    {
      "cell_type": "code",
      "source": [
        "# plotting the image\n",
        "img,label = train_dataset[0]\n",
        "plt.imshow(img, cmap='gray')\n",
        "plt.title(f\"Label: {label}\")\n",
        "plt.show()"
      ],
      "metadata": {
        "colab": {
          "base_uri": "https://localhost:8080/",
          "height": 281
        },
        "id": "eiHXHMt4uwCl",
        "outputId": "7026634a-0851-409b-ad5d-b8145634490e"
      },
      "execution_count": 74,
      "outputs": [
        {
          "output_type": "display_data",
          "data": {
            "image/png": "[encoded data removed]",
            "text/plain": [
              "<Figure size 432x288 with 1 Axes>"
            ]
          },
          "metadata": {
            "needs_background": "light"
          }
        }
      ]
    },
    {
      "cell_type": "code",
      "source": [
        "# using transform functionality of torchvision to convert images into Tensor data\n",
        "import torchvision.transforms as transforms\n",
        "\n",
        "train_dataset = MNIST(root='data/', train= True, transform=transforms.ToTensor())\n",
        "test_dataset = MNIST(root='data/', train= False, transform=transforms.ToTensor())\n",
        "\n",
        "print(len(train_dataset))\n",
        "print(len(test_dataset))"
      ],
      "metadata": {
        "colab": {
          "base_uri": "https://localhost:8080/"
        },
        "id": "h8gZI5Xsvwmv",
        "outputId": "f7ac0ad9-96e7-4b1e-8253-04d17094bcec"
      },
      "execution_count": 75,
      "outputs": [
        {
          "output_type": "stream",
          "name": "stdout",
          "text": [
            "60000\n",
            "10000\n"
          ]
        }
      ]
    },
    {
      "cell_type": "code",
      "source": [
        "# checking the above conversion to Tensor\n",
        "\n",
        "img, label = train_dataset[0]\n",
        "print(\"Image Shape: \", img.shape)"
      ],
      "metadata": {
        "colab": {
          "base_uri": "https://localhost:8080/"
        },
        "id": "vuY_idT_xqcA",
        "outputId": "d5d192a0-8a01-4bb7-872b-92c9f2354b87"
      },
      "execution_count": 76,
      "outputs": [
        {
          "output_type": "stream",
          "name": "stdout",
          "text": [
            "Image Shape:  torch.Size([1, 28, 28])\n"
          ]
        }
      ]
    },
    {
      "cell_type": "code",
      "source": [
        "\"\"\"\n",
        "Data preparation for the model. Random split the data into training_data, validation_data.\n",
        " - training data: used to train the model\n",
        " - validation data: used to evaluate the model during training, adjusting the hyperparameters( learning rate, momentum etc)\n",
        " - test data : used to compare the different models / approaches \n",
        "\n",
        "## random_split from torch utlis is used for splitting the data\n",
        "\"\"\"\n",
        "from torch.utils.data import random_split\n",
        "\n",
        "train_ds, val_ds = random_split(train_dataset, [50000,10000])\n",
        "print(len(train_ds))\n",
        "print(len(val_ds))"
      ],
      "metadata": {
        "colab": {
          "base_uri": "https://localhost:8080/"
        },
        "id": "R-auuZ_pw8Rd",
        "outputId": "da2bebf0-b314-4580-e8d7-8c632d17bad9"
      },
      "execution_count": 77,
      "outputs": [
        {
          "output_type": "stream",
          "name": "stdout",
          "text": [
            "50000\n",
            "10000\n"
          ]
        }
      ]
    },
    {
      "cell_type": "code",
      "source": [
        "\"\"\"\n",
        "Preparing the batches from given train_ds\n",
        "Pytorch's DataLoader is responsible for managing batches. We can create a DataLoader from any Dataset. DataLoader makes it easier to iterate over batches.\n",
        "\"\"\"\n",
        "from torch.utils.data import DataLoader\n",
        "\n",
        "batch_size = 128\n",
        "train_loader = DataLoader(train_ds, batch_size, shuffle= True)\n",
        "val_loader = DataLoader(val_ds, batch_size, shuffle= True)"
      ],
      "metadata": {
        "id": "J0AFvB9LyDF1"
      },
      "execution_count": 78,
      "outputs": []
    },
    {
      "cell_type": "code",
      "source": [
        "# Define the function to get the input_features and output_features dimensions, required to create a fully connected layer\n",
        "\n",
        "def input_output_features_dimensions(loader):\n",
        "  for img, label in loader:\n",
        "    batch, channel, height, width = img.shape\n",
        "    break\n",
        "  return {'in_dim':channel*height*width, 'out_dim': 10}\n",
        "\n",
        "x = input_output_features_dimensions(train_loader)"
      ],
      "metadata": {
        "id": "LF7SoFIY0ARX"
      },
      "execution_count": 79,
      "outputs": []
    },
    {
      "cell_type": "code",
      "source": [
        "# creating measurement unit for evaluating the model accuracy\n",
        "\n",
        "def accuracy(outputs, labels):\n",
        "\n",
        "  #output size: 128x10\n",
        "  _, index = torch.max(outputs, dim=1)   # collecting the index of max_value which tells the label (index = 128x1)\n",
        "  bool_matrix = torch.eq(index, labels)\n",
        "  correct_classified = torch.sum(bool_matrix)\n",
        "\n",
        "  return torch.tensor(correct_classified.item()/len(bool_matrix))"
      ],
      "metadata": {
        "id": "uNrB2SmM_6_u"
      },
      "execution_count": 80,
      "outputs": []
    },
    {
      "cell_type": "code",
      "source": [
        "# creating the custom MNIST model class from nn.module of pytorch using the inheritance concept of oops\n",
        "import torch.nn as nn\n",
        "import torch.nn.functional as F\n",
        "\n",
        "dim = input_output_features_dimensions(train_loader)\n",
        "input_features = dim['in_dim']\n",
        "output_features = dim['out_dim']\n",
        "\n",
        "\n",
        "class MNIST_sanjeev(nn.Module):\n",
        "\n",
        "  def __init__(self):\n",
        "    super().__init__()\n",
        "    self.fc1 = nn.Linear(input_features, output_features)   # this will create the weight and bias matrices when an object is class is created\n",
        "  \n",
        "\n",
        "  \"\"\"\"\n",
        "\n",
        "  # For understanding, it means when we create the MNIST_sanjeev class object and when we use this object as function over the batch of images, in the backend it will call the \n",
        "  __call__ magic function, which further call the self.forward(batch_image)\n",
        "  # In nutshell whenever we want to use the object of class as function we have to define this thing using __call___ magic function\n",
        "  # nn.Module\n",
        "  class Module(object):\n",
        "\n",
        "      def __call__(self, x):\n",
        "          # Simplified\n",
        "          # Actual implementation has validation and gradient tracking.\n",
        "          return self.forward(x)\n",
        "  \"\"\"\n",
        "\n",
        "  def forward(self, image_batch):\n",
        "    image_batch = image_batch.reshape(-1,input_features)    # -1 means python will automatically decide this dimension as per the input data dimension\n",
        "    out = self.fc1(image_batch)                                           \n",
        "    return out\n",
        "  \n",
        "  def training_step(self, batch):\n",
        "    imgs, labels = batch\n",
        "    out = self(imgs)               # self here denotes the obj of the class ---> for ex: model(imgs)--> which call ---> model.forward(imgs)\n",
        "    loss = F.cross_entropy(out, labels)\n",
        "    return loss\n",
        "\n",
        "  def validation_step(self, batch):\n",
        "    imgs, labels = batch\n",
        "    out = self(imgs)\n",
        "    loss = F.cross_entropy(out, labels)\n",
        "    acc = accuracy(out, labels)\n",
        "    return{'val_loss':loss, 'val_acc': acc}\n",
        "  \n",
        "  def validation_epoch_end(self, outputs):\n",
        "    batch_losses = [x['val_loss'] for x in outputs]\n",
        "    batch_accs = [x['val_acc'] for x in outputs]\n",
        "\n",
        "    epoch_loss = torch.stack(batch_losses).mean()\n",
        "    epoch_acc = torch.stack(batch_accs).mean()\n",
        "\n",
        "    return{'val_loss':epoch_loss.item(), 'val_acc':epoch_acc.item()}\n",
        "  \n",
        "  def print_epoch_end_result(self, epoch, final_result):\n",
        "    print(\"Epoch [{}], val_loss: {:.4f}, val_acc: {:.4f}\".format(epoch, final_result['val_loss'], final_result['val_acc']))\n"
      ],
      "metadata": {
        "id": "kvWDowGv2dgb"
      },
      "execution_count": 81,
      "outputs": []
    },
    {
      "cell_type": "code",
      "source": [
        "def fit(no_of_epochs, lr, model, train_loader, val_loader, opt_func =torch.optim.SGD):\n",
        "\n",
        "  optimizer = opt_func(model.parameters(), lr)\n",
        "  record = []\n",
        "\n",
        "  for epoch in range(no_of_epochs):\n",
        "\n",
        "    # Training Phase\n",
        "    for batch in train_loader:\n",
        "      loss = model.training_step(batch)\n",
        "      loss.backward()\n",
        "      optimizer.step()\n",
        "      optimizer.zero_grad()\n",
        "\n",
        "    # Validation Phase\n",
        "\n",
        "    mid_result = [model.validation_step(batch) for batch in val_loader]    # give list of dict of val_loss and val_acc\n",
        "    final_result = model.validation_epoch_end(mid_result)                  # give the epoch loss and epoch acc\n",
        "    model.print_epoch_end_result(epoch,final_result)\n",
        "\n",
        "    record.append(final_result)\n",
        "  \n",
        "  return record"
      ],
      "metadata": {
        "id": "uGGA-_PYFUpq"
      },
      "execution_count": 82,
      "outputs": []
    },
    {
      "cell_type": "code",
      "source": [
        "# creating the object of the class\n",
        "model = MNIST_sanjeev()"
      ],
      "metadata": {
        "id": "Z46epC5HH5uw"
      },
      "execution_count": 83,
      "outputs": []
    },
    {
      "cell_type": "code",
      "source": [
        "for batch in val_loader:\n",
        "  batch_1 = batch\n",
        "  break\n",
        "\n",
        "result0 = model.validation_step(batch)\n",
        "print(result0)"
      ],
      "metadata": {
        "colab": {
          "base_uri": "https://localhost:8080/"
        },
        "id": "6faf53czIJty",
        "outputId": "0b4e5231-b1de-4e31-8d30-a51e911d02ea"
      },
      "execution_count": 84,
      "outputs": [
        {
          "output_type": "stream",
          "name": "stdout",
          "text": [
            "{'val_loss': tensor(2.3296, grad_fn=<NllLossBackward0>), 'val_acc': tensor(0.1719)}\n"
          ]
        }
      ]
    },
    {
      "cell_type": "code",
      "source": [
        "history1 = fit(5,0.001, model, train_loader, val_loader)"
      ],
      "metadata": {
        "colab": {
          "base_uri": "https://localhost:8080/"
        },
        "id": "irpiVuzPIeDE",
        "outputId": "2c7b879f-2633-47ee-e846-44724cb354ae"
      },
      "execution_count": 85,
      "outputs": [
        {
          "output_type": "stream",
          "name": "stdout",
          "text": [
            "Epoch [0], val_loss: 1.9485, val_acc: 0.6153\n",
            "Epoch [1], val_loss: 1.6769, val_acc: 0.7371\n",
            "Epoch [2], val_loss: 1.4771, val_acc: 0.7709\n",
            "Epoch [3], val_loss: 1.3269, val_acc: 0.7888\n",
            "Epoch [4], val_loss: 1.2114, val_acc: 0.7992\n"
          ]
        }
      ]
    },
    {
      "cell_type": "code",
      "source": [
        "history2 = fit(5,0.001, model, train_loader, val_loader)"
      ],
      "metadata": {
        "colab": {
          "base_uri": "https://localhost:8080/"
        },
        "id": "7zAPjWsII5sW",
        "outputId": "4eb9a01f-10f4-4720-85fd-2f8f73ceaa4a"
      },
      "execution_count": 86,
      "outputs": [
        {
          "output_type": "stream",
          "name": "stdout",
          "text": [
            "Epoch [0], val_loss: 1.1186, val_acc: 0.8071\n",
            "Epoch [1], val_loss: 1.0444, val_acc: 0.8144\n",
            "Epoch [2], val_loss: 0.9822, val_acc: 0.8222\n",
            "Epoch [3], val_loss: 0.9353, val_acc: 0.8239\n",
            "Epoch [4], val_loss: 0.8893, val_acc: 0.8320\n"
          ]
        }
      ]
    },
    {
      "cell_type": "code",
      "source": [
        "history3 = fit(5,0.001, model, train_loader, val_loader)"
      ],
      "metadata": {
        "colab": {
          "base_uri": "https://localhost:8080/"
        },
        "id": "UjZUlwfOI5jd",
        "outputId": "645d4230-dcb3-4e5c-8f23-ae4efc280fc2"
      },
      "execution_count": 87,
      "outputs": [
        {
          "output_type": "stream",
          "name": "stdout",
          "text": [
            "Epoch [0], val_loss: 0.8515, val_acc: 0.8351\n",
            "Epoch [1], val_loss: 0.8235, val_acc: 0.8377\n",
            "Epoch [2], val_loss: 0.7948, val_acc: 0.8415\n",
            "Epoch [3], val_loss: 0.7719, val_acc: 0.8410\n",
            "Epoch [4], val_loss: 0.7493, val_acc: 0.8452\n"
          ]
        }
      ]
    },
    {
      "cell_type": "code",
      "source": [
        "history4 = fit(5,0.001, model, train_loader, val_loader)"
      ],
      "metadata": {
        "colab": {
          "base_uri": "https://localhost:8080/"
        },
        "id": "43Jzez7yI5aU",
        "outputId": "58db915c-db89-4be7-9cf1-311fe12e0dc0"
      },
      "execution_count": 88,
      "outputs": [
        {
          "output_type": "stream",
          "name": "stdout",
          "text": [
            "Epoch [0], val_loss: 0.7289, val_acc: 0.8477\n",
            "Epoch [1], val_loss: 0.7141, val_acc: 0.8495\n",
            "Epoch [2], val_loss: 0.6952, val_acc: 0.8511\n",
            "Epoch [3], val_loss: 0.6854, val_acc: 0.8507\n",
            "Epoch [4], val_loss: 0.6703, val_acc: 0.8536\n"
          ]
        }
      ]
    },
    {
      "cell_type": "code",
      "source": [
        "history = [result0] + history1 + history2 + history3 + history4\n",
        "\n",
        "accuracies = [result['val_acc'] for result in history]\n",
        "plt.plot(accuracies, '-x')\n",
        "plt.xlabel('epoch')\n",
        "plt.ylabel('accuracy')\n",
        "plt.title('Accuracy vs No of epochs')\n",
        "plt.show()"
      ],
      "metadata": {
        "colab": {
          "base_uri": "https://localhost:8080/",
          "height": 295
        },
        "id": "OoEQlWJHI5Qa",
        "outputId": "59654883-ce3c-4d4f-a8ff-09ada275ee0c"
      },
      "execution_count": 89,
      "outputs": [
        {
          "output_type": "display_data",
          "data": {
            "image/png": "[encoded data removed]",
            "text/plain": [
              "<Figure size 432x288 with 1 Axes>"
            ]
          },
          "metadata": {
            "needs_background": "light"
          }
        }
      ]
    }
  ]
}
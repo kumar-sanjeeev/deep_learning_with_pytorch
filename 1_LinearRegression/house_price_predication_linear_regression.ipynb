{
  "nbformat": 4,
  "nbformat_minor": 0,
  "metadata": {
    "colab": {
      "name": "house_price_predication_linear_regression.ipynb",
      "provenance": []
    },
    "kernelspec": {
      "name": "python3",
      "display_name": "Python 3"
    },
    "language_info": {
      "name": "python"
    }
  },
  "cells": [
    {
      "cell_type": "markdown",
      "source": [
        "# **Description**\n",
        "\n",
        "**Housing Values in Suburbs of Boston**\n",
        "\n",
        "\n",
        "*  The medv variable is the target variable.\n",
        "\n",
        "\n",
        "\n",
        "**Data description**\n",
        "\n",
        "\n",
        "*  The Boston data frame has 506 rows and 14 columns.\n",
        "\n",
        "\n"
      ],
      "metadata": {
        "id": "uvuvE51HCYAx"
      }
    },
    {
      "cell_type": "code",
      "source": [
        "import numpy as np\n",
        "import matplotlib.pyplot as plt\n",
        "import torch\n",
        "import torchvision\n",
        "import torch.nn as nn\n",
        "import pandas as pd\n",
        "import torch.nn.functional as F\n",
        "from torchvision.datasets.utils import download_url\n",
        "from torch.utils.data import DataLoader, TensorDataset, random_split"
      ],
      "metadata": {
        "id": "LOrvyfsLDEY9"
      },
      "execution_count": 26,
      "outputs": []
    },
    {
      "cell_type": "code",
      "source": [
        "# downloading datasets\n",
        "DATASET_URL = \"https://raw.githubusercontent.com/selva86/datasets/master/BostonHousing.csv\"\n",
        "DATA_FILENAME = \"BostonHousing.csv\"\n",
        "TARGET_COLUMN = 'medv'\n",
        "input_feature = 13\n",
        "output_feature = 1\n",
        "\n",
        "download_url(DATASET_URL,'.')\n",
        "dataframe = pd.read_csv(DATA_FILENAME)\n",
        "dataframe.head()"
      ],
      "metadata": {
        "colab": {
          "base_uri": "https://localhost:8080/",
          "height": 224
        },
        "id": "_Fx5d4aCDuTj",
        "outputId": "caf69e21-8cd2-42ff-f2e2-20fd0cc57dde"
      },
      "execution_count": 27,
      "outputs": [
        {
          "output_type": "stream",
          "name": "stdout",
          "text": [
            "Using downloaded and verified file: ./BostonHousing.csv\n"
          ]
        },
        {
          "output_type": "execute_result",
          "data": {
            "text/html": [
              "\n",
              "  <div id=\"df-d63d31f3-5ec5-4f57-8f80-3b0bc17cdc2e\">\n",
              "    <div class=\"colab-df-container\">\n",
              "      <div>\n",
              "<style scoped>\n",
              "    .dataframe tbody tr th:only-of-type {\n",
              "        vertical-align: middle;\n",
              "    }\n",
              "\n",
              "    .dataframe tbody tr th {\n",
              "        vertical-align: top;\n",
              "    }\n",
              "\n",
              "    .dataframe thead th {\n",
              "        text-align: right;\n",
              "    }\n",
              "</style>\n",
              "<table border=\"1\" class=\"dataframe\">\n",
              "  <thead>\n",
              "    <tr style=\"text-align: right;\">\n",
              "      <th></th>\n",
              "      <th>crim</th>\n",
              "      <th>zn</th>\n",
              "      <th>indus</th>\n",
              "      <th>chas</th>\n",
              "      <th>nox</th>\n",
              "      <th>rm</th>\n",
              "      <th>age</th>\n",
              "      <th>dis</th>\n",
              "      <th>rad</th>\n",
              "      <th>tax</th>\n",
              "      <th>ptratio</th>\n",
              "      <th>b</th>\n",
              "      <th>lstat</th>\n",
              "      <th>medv</th>\n",
              "    </tr>\n",
              "  </thead>\n",
              "  <tbody>\n",
              "    <tr>\n",
              "      <th>0</th>\n",
              "      <td>0.00632</td>\n",
              "      <td>18.0</td>\n",
              "      <td>2.31</td>\n",
              "      <td>0</td>\n",
              "      <td>0.538</td>\n",
              "      <td>6.575</td>\n",
              "      <td>65.2</td>\n",
              "      <td>4.0900</td>\n",
              "      <td>1</td>\n",
              "      <td>296</td>\n",
              "      <td>15.3</td>\n",
              "      <td>396.90</td>\n",
              "      <td>4.98</td>\n",
              "      <td>24.0</td>\n",
              "    </tr>\n",
              "    <tr>\n",
              "      <th>1</th>\n",
              "      <td>0.02731</td>\n",
              "      <td>0.0</td>\n",
              "      <td>7.07</td>\n",
              "      <td>0</td>\n",
              "      <td>0.469</td>\n",
              "      <td>6.421</td>\n",
              "      <td>78.9</td>\n",
              "      <td>4.9671</td>\n",
              "      <td>2</td>\n",
              "      <td>242</td>\n",
              "      <td>17.8</td>\n",
              "      <td>396.90</td>\n",
              "      <td>9.14</td>\n",
              "      <td>21.6</td>\n",
              "    </tr>\n",
              "    <tr>\n",
              "      <th>2</th>\n",
              "      <td>0.02729</td>\n",
              "      <td>0.0</td>\n",
              "      <td>7.07</td>\n",
              "      <td>0</td>\n",
              "      <td>0.469</td>\n",
              "      <td>7.185</td>\n",
              "      <td>61.1</td>\n",
              "      <td>4.9671</td>\n",
              "      <td>2</td>\n",
              "      <td>242</td>\n",
              "      <td>17.8</td>\n",
              "      <td>392.83</td>\n",
              "      <td>4.03</td>\n",
              "      <td>34.7</td>\n",
              "    </tr>\n",
              "    <tr>\n",
              "      <th>3</th>\n",
              "      <td>0.03237</td>\n",
              "      <td>0.0</td>\n",
              "      <td>2.18</td>\n",
              "      <td>0</td>\n",
              "      <td>0.458</td>\n",
              "      <td>6.998</td>\n",
              "      <td>45.8</td>\n",
              "      <td>6.0622</td>\n",
              "      <td>3</td>\n",
              "      <td>222</td>\n",
              "      <td>18.7</td>\n",
              "      <td>394.63</td>\n",
              "      <td>2.94</td>\n",
              "      <td>33.4</td>\n",
              "    </tr>\n",
              "    <tr>\n",
              "      <th>4</th>\n",
              "      <td>0.06905</td>\n",
              "      <td>0.0</td>\n",
              "      <td>2.18</td>\n",
              "      <td>0</td>\n",
              "      <td>0.458</td>\n",
              "      <td>7.147</td>\n",
              "      <td>54.2</td>\n",
              "      <td>6.0622</td>\n",
              "      <td>3</td>\n",
              "      <td>222</td>\n",
              "      <td>18.7</td>\n",
              "      <td>396.90</td>\n",
              "      <td>5.33</td>\n",
              "      <td>36.2</td>\n",
              "    </tr>\n",
              "  </tbody>\n",
              "</table>\n",
              "</div>\n",
              "      <button class=\"colab-df-convert\" onclick=\"convertToInteractive('df-d63d31f3-5ec5-4f57-8f80-3b0bc17cdc2e')\"\n",
              "              title=\"Convert this dataframe to an interactive table.\"\n",
              "              style=\"display:none;\">\n",
              "        \n",
              "  <svg xmlns=\"http://www.w3.org/2000/svg\" height=\"24px\"viewBox=\"0 0 24 24\"\n",
              "       width=\"24px\">\n",
              "    <path d=\"M0 0h24v24H0V0z\" fill=\"none\"/>\n",
              "    <path d=\"M18.56 5.44l.94 2.06.94-2.06 2.06-.94-2.06-.94-.94-2.06-.94 2.06-2.06.94zm-11 1L8.5 8.5l.94-2.06 2.06-.94-2.06-.94L8.5 2.5l-.94 2.06-2.06.94zm10 10l.94 2.06.94-2.06 2.06-.94-2.06-.94-.94-2.06-.94 2.06-2.06.94z\"/><path d=\"M17.41 7.96l-1.37-1.37c-.4-.4-.92-.59-1.43-.59-.52 0-1.04.2-1.43.59L10.3 9.45l-7.72 7.72c-.78.78-.78 2.05 0 2.83L4 21.41c.39.39.9.59 1.41.59.51 0 1.02-.2 1.41-.59l7.78-7.78 2.81-2.81c.8-.78.8-2.07 0-2.86zM5.41 20L4 18.59l7.72-7.72 1.47 1.35L5.41 20z\"/>\n",
              "  </svg>\n",
              "      </button>\n",
              "      \n",
              "  <style>\n",
              "    .colab-df-container {\n",
              "      display:flex;\n",
              "      flex-wrap:wrap;\n",
              "      gap: 12px;\n",
              "    }\n",
              "\n",
              "    .colab-df-convert {\n",
              "      background-color: #E8F0FE;\n",
              "      border: none;\n",
              "      border-radius: 50%;\n",
              "      cursor: pointer;\n",
              "      display: none;\n",
              "      fill: #1967D2;\n",
              "      height: 32px;\n",
              "      padding: 0 0 0 0;\n",
              "      width: 32px;\n",
              "    }\n",
              "\n",
              "    .colab-df-convert:hover {\n",
              "      background-color: #E2EBFA;\n",
              "      box-shadow: 0px 1px 2px rgba(60, 64, 67, 0.3), 0px 1px 3px 1px rgba(60, 64, 67, 0.15);\n",
              "      fill: #174EA6;\n",
              "    }\n",
              "\n",
              "    [theme=dark] .colab-df-convert {\n",
              "      background-color: #3B4455;\n",
              "      fill: #D2E3FC;\n",
              "    }\n",
              "\n",
              "    [theme=dark] .colab-df-convert:hover {\n",
              "      background-color: #434B5C;\n",
              "      box-shadow: 0px 1px 3px 1px rgba(0, 0, 0, 0.15);\n",
              "      filter: drop-shadow(0px 1px 2px rgba(0, 0, 0, 0.3));\n",
              "      fill: #FFFFFF;\n",
              "    }\n",
              "  </style>\n",
              "\n",
              "      <script>\n",
              "        const buttonEl =\n",
              "          document.querySelector('#df-d63d31f3-5ec5-4f57-8f80-3b0bc17cdc2e button.colab-df-convert');\n",
              "        buttonEl.style.display =\n",
              "          google.colab.kernel.accessAllowed ? 'block' : 'none';\n",
              "\n",
              "        async function convertToInteractive(key) {\n",
              "          const element = document.querySelector('#df-d63d31f3-5ec5-4f57-8f80-3b0bc17cdc2e');\n",
              "          const dataTable =\n",
              "            await google.colab.kernel.invokeFunction('convertToInteractive',\n",
              "                                                     [key], {});\n",
              "          if (!dataTable) return;\n",
              "\n",
              "          const docLinkHtml = 'Like what you see? Visit the ' +\n",
              "            '<a target=\"_blank\" href=https://colab.research.google.com/notebooks/data_table.ipynb>data table notebook</a>'\n",
              "            + ' to learn more about interactive tables.';\n",
              "          element.innerHTML = '';\n",
              "          dataTable['output_type'] = 'display_data';\n",
              "          await google.colab.output.renderOutput(dataTable, element);\n",
              "          const docLink = document.createElement('div');\n",
              "          docLink.innerHTML = docLinkHtml;\n",
              "          element.appendChild(docLink);\n",
              "        }\n",
              "      </script>\n",
              "    </div>\n",
              "  </div>\n",
              "  "
            ],
            "text/plain": [
              "      crim    zn  indus  chas    nox  ...  tax  ptratio       b  lstat  medv\n",
              "0  0.00632  18.0   2.31     0  0.538  ...  296     15.3  396.90   4.98  24.0\n",
              "1  0.02731   0.0   7.07     0  0.469  ...  242     17.8  396.90   9.14  21.6\n",
              "2  0.02729   0.0   7.07     0  0.469  ...  242     17.8  392.83   4.03  34.7\n",
              "3  0.03237   0.0   2.18     0  0.458  ...  222     18.7  394.63   2.94  33.4\n",
              "4  0.06905   0.0   2.18     0  0.458  ...  222     18.7  396.90   5.33  36.2\n",
              "\n",
              "[5 rows x 14 columns]"
            ]
          },
          "metadata": {},
          "execution_count": 27
        }
      ]
    },
    {
      "cell_type": "code",
      "source": [
        "# converting the pandas dataframe to numpy arrays\n",
        "inputs = dataframe.drop(TARGET_COLUMN, axis=1).values\n",
        "targets = dataframe[[TARGET_COLUMN]].values\n",
        "\n",
        "print(inputs.shape)\n",
        "print(type(inputs))\n",
        "print(targets.shape)\n",
        "print(type(targets))\n",
        "\n",
        "# we can also use the dataframe.to_numpy() ---> to convert complete panda dataset into numpy\n",
        "# numpy_dataframe = dataframe.to_numpy()\n",
        "# print(type(numpy_dataframe))"
      ],
      "metadata": {
        "colab": {
          "base_uri": "https://localhost:8080/"
        },
        "id": "v6o_9wrZC49p",
        "outputId": "88ac7b28-3aac-4b2f-fb13-4fbe8f947a5e"
      },
      "execution_count": 28,
      "outputs": [
        {
          "output_type": "stream",
          "name": "stdout",
          "text": [
            "(506, 13)\n",
            "<class 'numpy.ndarray'>\n",
            "(506, 1)\n",
            "<class 'numpy.ndarray'>\n"
          ]
        }
      ]
    },
    {
      "cell_type": "code",
      "source": [
        "\n",
        "# converting the dataset into the Tensor\n",
        "dataset = TensorDataset(torch.tensor(inputs, dtype= torch.float32), torch.tensor(targets, dtype=torch.float32))\n",
        "train_ds, val_ds = random_split(dataset, [406, 100])\n",
        "\n",
        "batch_size = 65\n",
        "\n",
        "train_loader = DataLoader(train_ds, batch_size, shuffle= True)\n",
        "val_loader = DataLoader(val_ds, batch_size, shuffle= True)"
      ],
      "metadata": {
        "id": "zZakEQgDSAhq"
      },
      "execution_count": 29,
      "outputs": []
    },
    {
      "cell_type": "code",
      "source": [
        "class HousingPredicationModel(nn.Module):\n",
        "  \n",
        "  def __init__(self) -> None:\n",
        "      super().__init__()\n",
        "      self.linear = nn.Linear(input_feature, output_feature) # it will create the model parameter matrixes (weight and bias matrix in this case)\n",
        "\n",
        "  def forward(self, x):\n",
        "    return self.linear(x)               # y = w@x + b ---> will return the y values\n",
        "  \n",
        "  def training_step(self, batch):\n",
        "    inputs, targets = batch\n",
        "    predication = self(inputs)         # it will call the __call__magic function, which further will call the forward function--> which will call the self.linear(inputs)\n",
        "    loss = F.mse_loss(predication, targets)\n",
        "    return loss\n",
        "\n",
        "  def validation_step(self, batch):\n",
        "    inputs, targets = batch\n",
        "    predication = self(inputs)\n",
        "    loss = F.mse_loss(predication, targets)\n",
        "    return {'val_loss': loss.detach()}\n",
        "  \n",
        "  def validation_epoch_end(self, result):\n",
        "    batch_losses = [x['val_loss'] for x in result]\n",
        "    total_epoch_loss = torch.stack(batch_losses).mean()   # combine all the losses\n",
        "    return({'val_loss': total_epoch_loss.item()})\n",
        "  \n",
        "  def print_result(self, epoch, final_result):\n",
        "    print(\"Epoch [{}], val_loss: {:.4f}\".format(epoch, final_result['val_loss']))"
      ],
      "metadata": {
        "id": "zkH4i02JUFkO"
      },
      "execution_count": 30,
      "outputs": []
    },
    {
      "cell_type": "code",
      "source": [
        "model = HousingPredicationModel()"
      ],
      "metadata": {
        "id": "lSbqCnFJZD0m"
      },
      "execution_count": 31,
      "outputs": []
    },
    {
      "cell_type": "code",
      "source": [
        "\n",
        "def evaluate(model, val_loader):\n",
        "  result = [model.validation_step(batch) for batch in val_loader]\n",
        "  final_loss_value = model.validation_epoch_end(result)\n",
        "  return final_loss_value\n",
        "\n",
        "def fit(no_of_epochs, lr, model, train_loader, val_loader, opt_func= torch.optim.SGD):\n",
        "  optimizer = opt_func(model.parameters(), lr)\n",
        "  history = []\n",
        "\n",
        "  for epoch in range(no_of_epochs):\n",
        "\n",
        "    for batch in train_loader:\n",
        "      loss = model.training_step(batch)\n",
        "      loss.backward()                    # calculate the grad i.e w.grad() and b.grad()\n",
        "      optimizer.step()                   # update the model parameters\n",
        "      optimizer.zero_grad()              # zeroing the w.grad() and b.grad() matrices\n",
        "\n",
        "    # validation Phase\n",
        "    result = evaluate(model, val_loader)\n",
        "    model.print_result(epoch, result)\n",
        "    history.append(result)\n",
        "  \n",
        "  return history"
      ],
      "metadata": {
        "id": "BULGaMEhZeJw"
      },
      "execution_count": 32,
      "outputs": []
    },
    {
      "cell_type": "code",
      "source": [
        "result_0 = evaluate(model, val_loader)\n",
        "result_0"
      ],
      "metadata": {
        "colab": {
          "base_uri": "https://localhost:8080/"
        },
        "id": "InEYVbXdbhw5",
        "outputId": "aea1ab25-b409-440c-ec1c-c7a8fc04bfd1"
      },
      "execution_count": 33,
      "outputs": [
        {
          "output_type": "execute_result",
          "data": {
            "text/plain": [
              "{'val_loss': 11936.388671875}"
            ]
          },
          "metadata": {},
          "execution_count": 33
        }
      ]
    }
  ]
}
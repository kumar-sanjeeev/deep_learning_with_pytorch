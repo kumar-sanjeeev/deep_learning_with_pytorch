{
  "nbformat": 4,
  "nbformat_minor": 0,
  "metadata": {
    "colab": {
      "name": "Hand_Written_digits_ImageClassification-Logistic_Regression.ipynb",
      "provenance": [],
      "collapsed_sections": []
    },
    "kernelspec": {
      "name": "python3",
      "display_name": "Python 3"
    },
    "language_info": {
      "name": "python"
    }
  },
  "cells": [
    {
      "cell_type": "code",
      "source": [
        "# Importing Libraries\n",
        "\n",
        "import numpy as np\n",
        "import torch \n",
        "import torchvision\n",
        "import torch.nn.functional as F\n",
        "import matplotlib.pyplot as plt\n"
      ],
      "metadata": {
        "id": "AKeXN7jQm4hE"
      },
      "execution_count": null,
      "outputs": []
    },
    {
      "cell_type": "code",
      "execution_count": null,
      "metadata": {
        "id": "7hl60X2BGqvG"
      },
      "outputs": [],
      "source": [
        "import numpy as np\n",
        "\n",
        "\"\"\"\n",
        "What does the .item() means in the pytorch\n",
        "\n",
        "Explanation: .item() is used to get the particular value from the tensor.\n",
        "\"\"\"\n",
        "\n",
        "# ================================================================== #\n",
        "#                       Zero Dimenion Tensor                         #\n",
        "# ================================================================== #\n",
        "\n",
        "t0 = torch.tensor(5.0)\n",
        "print(t0)\n",
        "print(type(t0))\n",
        "\n",
        "# to get the value of tensor as int/float use .item()\n",
        "print(t0.item())\n",
        "print(type(t0.item()))\n",
        "\n",
        "# ================================================================== #\n",
        "#                        One Dimenion Tensor                         #\n",
        "# ================================================================== #\n",
        "\n",
        "t1 = torch.tensor([1,2,3,4])\n",
        "print(t1)\n",
        "# How to get the particular value from 1D tensor\n",
        "print(t1[2].item())\n",
        "\n",
        "# ================================================================== #\n",
        "#                        Two Dimenion Tensor                         #\n",
        "# ================================================================== #\n",
        "\n",
        "t2 = torch.tensor([[1,2],[3,4]])\n",
        "print(t2[1][1].item())\n",
        "print((t2.shape))\n",
        "\n",
        "first_col = t2[:][1].data\n",
        "print(\"First col is: \", first_col)\n",
        "\n",
        "\n",
        "# ================================================================== #\n",
        "#                      Tensor to numpy conversion                    #\n",
        "# ================================================================== #\n",
        "\n",
        "t2_np = t2.numpy()\n",
        "print(t2_np.shape)\n"
      ]
    },
    {
      "cell_type": "code",
      "source": [
        "# Downloading the training data from the MNIST class\n",
        "\n",
        "from torchvision.datasets import MNIST\n",
        "\n",
        "dataset = MNIST(root= 'data/', train=True, download= True)\n",
        "print(len(dataset))"
      ],
      "metadata": {
        "id": "Kc-2pjJ5mqnC"
      },
      "execution_count": null,
      "outputs": []
    },
    {
      "cell_type": "code",
      "source": [
        "# Downloading the testing data from the MNIST class\n",
        "\n",
        "from torchvision.datasets import MNIST\n",
        "\n",
        "test_dataset = MNIST(root= 'data/', train=False, download= True)\n",
        "print(len(test_dataset))"
      ],
      "metadata": {
        "id": "-R4N135QqXWV"
      },
      "execution_count": null,
      "outputs": []
    },
    {
      "cell_type": "code",
      "source": [
        "# transform the data from PIL images into the torch Tensor \n",
        "\n",
        "import torchvision.transforms as transforms\n",
        "\n",
        "dataset = MNIST(root='data/', download = True, transform=transforms.ToTensor())"
      ],
      "metadata": {
        "id": "c9RwNtQ2n0Na"
      },
      "execution_count": null,
      "outputs": []
    },
    {
      "cell_type": "code",
      "source": [
        "\"\"\"\n",
        "\n",
        "Data preparation step:\n",
        " - training data: used to train the model\n",
        " - validation data: used to evaluate the model during training, adjusting the hyperparameters( learning rate, momentum etc)\n",
        " - test data : used to compare the different models / approaches \n",
        "\n",
        "\"\"\"\n",
        "\n",
        "# random split the data into training and validation part\n",
        "\n",
        "from torch.utils.data import random_split\n",
        "\n",
        "train_ds, val_ds = random_split(dataset, [50000, 10000])\n",
        "print(len(train_ds), len(val_ds))"
      ],
      "metadata": {
        "id": "K2t5U9N9qlk3"
      },
      "execution_count": null,
      "outputs": []
    },
    {
      "cell_type": "code",
      "source": [
        "\n",
        "\"\"\"\n",
        "Data loader is used to load the data into different batches of fixed batch_size\n",
        "\n",
        "Reason: Data has been divided into batches so that computational load would be low during model training.\n",
        "Shuffling helps to introduce the randomization which speeds up the training process\n",
        "\n",
        "\"\"\"\n",
        "from torch.utils.data import DataLoader\n",
        "\n",
        "batch_size = 128\n",
        "\n",
        "train_batch = DataLoader(train_ds, batch_size= batch_size, shuffle= True)\n",
        "val_batch = DataLoader(val_ds, batch_size= batch_size, shuffle=True)\n"
      ],
      "metadata": {
        "id": "nM65K4fCr-si"
      },
      "execution_count": null,
      "outputs": []
    },
    {
      "cell_type": "code",
      "source": [
        "# Logistic Regression Model creation without class\n",
        "import torch.nn as nn \n",
        "\n",
        "image, label = train_ds[0]\n",
        "print(\"Image shape: \", image.shape)\n",
        "input = 28*28*1\n",
        "output_classes = 10\n",
        "\n",
        "model = nn.Linear(in_features= input, out_features= output_classes)\n",
        "print(model)\n"
      ],
      "metadata": {
        "id": "TboqUmpMtbwI"
      },
      "execution_count": null,
      "outputs": []
    },
    {
      "cell_type": "code",
      "source": [
        "# Evalution Metric i.e accuracy---> means out of total batch size how many images has labelled correctly by model\n",
        "def accuracy(predication, labels):\n",
        "  _, predicated_label = torch.max(predication, dim=1)\n",
        "\n",
        "  # compare predicated_label with actual_label\n",
        "  bool_torch = torch.eq(predicated_label, labels)\n",
        "  correct_classfied_images = torch.sum(bool_torch)\n",
        "  return torch.tensor(correct_classfied_images.item()/ len(bool_torch))\n"
      ],
      "metadata": {
        "id": "5PsQm04_LOjL"
      },
      "execution_count": null,
      "outputs": []
    },
    {
      "cell_type": "code",
      "source": [
        "# Using class\n",
        "\n",
        "class MNIST_sanjeev (nn.Module):\n",
        "\n",
        "  def __init__(self, input_features, output_features):\n",
        "    super().__init__()\n",
        "    \n",
        "    # intializing the random weight and bias matrix as per input and output features\n",
        "    self.linear = nn.Linear(input_features, output_features)\n",
        "\n",
        "  def predication_step(self, input_images_batch):\n",
        "\n",
        "    input_images, label = input_images_batch\n",
        "    # reshaping the input_images (batch_size, channels, height, width)\n",
        "\n",
        "    batch_size, channel, height, width = input_images.shape\n",
        "\n",
        "    input_images = input_images.reshape(batch_size, channel*height*width)\n",
        "    \n",
        "    out = self.linear(input_images)\n",
        "\n",
        "    return out\n",
        "  \n",
        "  def training_step(self, input_images_batch):\n",
        "    \n",
        "    input_images, label = input_images_batch\n",
        "    # reshaping the input_images (batch_size, channels, height, width)\n",
        "\n",
        "    batch_size, channel, height, width = input_images.shape\n",
        "\n",
        "    input_images = input_images.reshape(batch_size, channel*height*width)\n",
        "    \n",
        "    out = self.linear(input_images)\n",
        "\n",
        "    loss = F.cross_entropy(out, label) # calculating loss\n",
        "\n",
        "    return loss\n",
        "  \n",
        "  def validation_step(self, val_images_batch):\n",
        "\n",
        "    input_images, label = val_images_batch\n",
        "    # reshaping the input_images (batch_size, channels, height, width)\n",
        "\n",
        "    batch_size, channel, height, width = input_images.shape\n",
        "\n",
        "    input_images = input_images.reshape(batch_size, channel*height*width)\n",
        "    \n",
        "    out = self.linear(input_images)\n",
        "\n",
        "    loss = F.cross_entropy(out, label) # calculating loss\n",
        "\n",
        "    acc = accuracy(out, label)\n",
        "\n",
        "    return {'val_loss': loss, 'val_acc': acc} #.item() used with loss to get the float value\n",
        "\n",
        "  def validation_epoch_end(self, result):\n",
        "    batch_losses = [ x['val_loss'] for x in result]\n",
        "    epoch_loss = torch.stack(batch_losses).mean()   # average loss of the epoch\n",
        "    batch_accs = [ x['val_acc'] for x in result ] \n",
        "    epoch_acc = torch.stack(batch_accs).mean()     # combine accuracy\n",
        "    return {'val_loss': epoch_loss.item(), 'val_acc': epoch_acc.item()}\n",
        "\n",
        "  def print_epoch_end_result(self, epoch, final_result):\n",
        "    print(\"Epoch [{}], val_loss: {:.4f}, val_acc: {:.4f}\".format(epoch, final_result['val_loss'], final_result['val_acc']))\n",
        "\n",
        "\n",
        "# # creating the object of MNIST_sanjeev class  \n",
        "# model = MNIST_sanjeev(input, output_classes)\n",
        "\n",
        "# print(model)\n",
        "# print(model.linear.weight.shape)\n",
        "# print(model.linear.bias.shape)\n",
        "# print(list(model.parameters()))"
      ],
      "metadata": {
        "id": "1Q64uFQ5uKFY"
      },
      "execution_count": null,
      "outputs": []
    },
    {
      "cell_type": "code",
      "source": [
        "def fit(epochs, lr, model, train_data, val_data, opt_func = torch.optim.SGD):\n",
        "\n",
        "  optimizer = opt_func(model.parameters(), lr)\n",
        "  history = [] # for keeping the epoch wise results\n",
        "\n",
        "  for epoch in range(epochs):\n",
        "\n",
        "    # training phase\n",
        "    for batch in train_data:\n",
        "\n",
        "      loss = model.training_step(batch)\n",
        "      loss.backward()\n",
        "      optimizer.step()\n",
        "      optimizer.zero_grad()\n",
        "\n",
        "    # validation phase\n",
        "\n",
        "    mid_result = [model.validation_step(batch) for batch in val_data]\n",
        "    final_result = model.validation_epoch_end(mid_result)\n",
        "    model.print_epoch_end_result(epoch, final_result)\n",
        "    history.append(final_result)\n",
        "\n",
        "  return history\n",
        "    "
      ],
      "metadata": {
        "id": "cI5ztEK2NVMR"
      },
      "execution_count": null,
      "outputs": []
    },
    {
      "cell_type": "code",
      "source": [
        "model = MNIST_sanjeev(input, output_classes)\n",
        "print(model)\n",
        "\n",
        "for batch in val_batch:\n",
        "  batch_1 = batch\n",
        "  break\n",
        "\n",
        "result0 = model.validation_step(batch)\n",
        "print(result0)"
      ],
      "metadata": {
        "id": "KsJbkyX5QD1o"
      },
      "execution_count": null,
      "outputs": []
    },
    {
      "cell_type": "code",
      "source": [
        "history1 = fit(5,0.001, model, train_batch, val_batch)"
      ],
      "metadata": {
        "id": "zzfwfKRHQPtn"
      },
      "execution_count": null,
      "outputs": []
    },
    {
      "cell_type": "code",
      "source": [
        "history2 = fit(5,0.001, model, train_batch, val_batch)"
      ],
      "metadata": {
        "id": "UM3nQ6UHZjPA"
      },
      "execution_count": null,
      "outputs": []
    },
    {
      "cell_type": "code",
      "source": [
        "history3 = fit(5,0.001, model, train_batch, val_batch)"
      ],
      "metadata": {
        "id": "VgZcymJy8cTa"
      },
      "execution_count": null,
      "outputs": []
    },
    {
      "cell_type": "code",
      "source": [
        "history4 = fit(5,0.001, model, train_batch, val_batch)"
      ],
      "metadata": {
        "id": "y4pYRvXr8cz7"
      },
      "execution_count": null,
      "outputs": []
    },
    {
      "cell_type": "code",
      "source": [
        "history = [result0] + history1 + history2 + history3 + history4\n",
        "\n",
        "accuracies = [result['val_acc'] for result in history]\n",
        "plt.plot(accuracies, '-x')\n",
        "plt.xlabel('epoch')\n",
        "plt.ylabel('accuracy')\n",
        "plt.title('Accuracy vs No of epochs')\n",
        "plt.show()"
      ],
      "metadata": {
        "colab": {
          "base_uri": "https://localhost:8080/",
          "height": 295
        },
        "id": "ELy1PmpB87gN",
        "outputId": "0ac5e16f-8f29-4063-d686-f35e84e5cc2f"
      },
      "execution_count": 25,
      "outputs": [
        {
          "output_type": "display_data",
          "data": {
            "image/png": "[encoded data removed]",
            "text/plain": [
              "<Figure size 432x288 with 1 Axes>"
            ]
          },
          "metadata": {
            "needs_background": "light"
          }
        }
      ]
    },
    {
      "cell_type": "code",
      "source": [
        "# Softmax implementation using numpy\n",
        "\n",
        "\"\"\"\n",
        "Need to pass the numpy 1D vector\n",
        "\"\"\"\n",
        "def softmax(X):\n",
        "  exp_term = np.exp(X)\n",
        "  return exp_term/ np.sum(exp_term, axis=1).reshape(-1,1)"
      ],
      "metadata": {
        "id": "iYhyhycWQ88u"
      },
      "execution_count": null,
      "outputs": []
    },
    {
      "cell_type": "code",
      "source": [
        ""
      ],
      "metadata": {
        "id": "QKb5FkNbZmnM"
      },
      "execution_count": null,
      "outputs": []
    }
  ]
}
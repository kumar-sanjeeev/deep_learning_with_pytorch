{
  "nbformat": 4,
  "nbformat_minor": 0,
  "metadata": {
    "colab": {
      "name": "Hand_Written_digits_ImageClassification-Logistic_Regression.ipynb",
      "provenance": []
    },
    "kernelspec": {
      "name": "python3",
      "display_name": "Python 3"
    },
    "language_info": {
      "name": "python"
    }
  },
  "cells": [
    {
      "cell_type": "code",
      "execution_count": null,
      "metadata": {
        "id": "7hl60X2BGqvG"
      },
      "outputs": [],
      "source": [
        "import numpy as np\n",
        "\n",
        "\"\"\"\n",
        "What does the .item() means in the pytorch\n",
        "\n",
        "Explanation: .item() is used to get the particular value from the tensor.\n",
        "\"\"\"\n",
        "\n",
        "# ================================================================== #\n",
        "#                       Zero Dimenion Tensor                         #\n",
        "# ================================================================== #\n",
        "\n",
        "t0 = torch.tensor(5.0)\n",
        "print(t0)\n",
        "print(type(t0))\n",
        "\n",
        "# to get the value of tensor as int/float use .item()\n",
        "print(t0.item())\n",
        "print(type(t0.item()))\n",
        "\n",
        "# ================================================================== #\n",
        "#                        One Dimenion Tensor                         #\n",
        "# ================================================================== #\n",
        "\n",
        "t1 = torch.tensor([1,2,3,4])\n",
        "print(t1)\n",
        "# How to get the particular value from 1D tensor\n",
        "print(t1[2].item())\n",
        "\n",
        "# ================================================================== #\n",
        "#                        Two Dimenion Tensor                         #\n",
        "# ================================================================== #\n",
        "\n",
        "t2 = torch.tensor([[1,2],[3,4]])\n",
        "print(t2[1][1].item())\n",
        "print((t2.shape))\n",
        "\n",
        "\n",
        "# ================================================================== #\n",
        "#                      Tensor to numpy conversion                    #\n",
        "# ================================================================== #\n",
        "\n",
        "t2_np = t2.numpy()\n",
        "print(t2_np.shape)\n"
      ]
    },
    {
      "cell_type": "code",
      "source": [
        "# Importing libraries\n",
        "import torch\n",
        "import torchvision\n",
        "from torchvision.datasets import MNIST"
      ],
      "metadata": {
        "id": "54zug-DOgsF6"
      },
      "execution_count": null,
      "outputs": []
    },
    {
      "cell_type": "code",
      "source": [
        "# Downloading dataset in the colab data folder from MNIST class\n",
        "data = MNIST(root = 'data/', download = True)"
      ],
      "metadata": {
        "id": "l6WlHKI5G4kn"
      },
      "execution_count": null,
      "outputs": []
    },
    {
      "cell_type": "code",
      "source": [
        "import torchvision.transforms as transforms\n",
        "# transforms function is used to convert the PIL image into the tensor\n",
        "dataset = MNIST(root = 'data/', download = True, transform=transforms.ToTensor())"
      ],
      "metadata": {
        "id": "UXleuqe1H1kU"
      },
      "execution_count": null,
      "outputs": []
    },
    {
      "cell_type": "code",
      "source": [
        "from torch.utils.data import random_split\n",
        "# splitting the data into the training and validation set\n",
        "train_ds, val_ds = random_split(dataset, [50000, 10000])\n",
        "print(len(train_ds))\n",
        "print(len(val_ds))"
      ],
      "metadata": {
        "id": "wJFf0xG9J34u"
      },
      "execution_count": null,
      "outputs": []
    },
    {
      "cell_type": "code",
      "source": [
        "# downloading the tesing data\n",
        "test_ds = MNIST(root = 'data/', train = False)\n",
        "print(test_ds)"
      ],
      "metadata": {
        "id": "nkTfpidaJsY6"
      },
      "execution_count": null,
      "outputs": []
    },
    {
      "cell_type": "code",
      "source": [
        "# splitting the traing data and validation data into the batches using Dataloader function\n",
        "from torch.utils.data import DataLoader\n",
        "train_batch = DataLoader(train_ds, batch_size= 128, shuffle = True)\n",
        "val_batch = DataLoader(val_ds, batch_size = 128)"
      ],
      "metadata": {
        "id": "rUG0FNLYO7ML"
      },
      "execution_count": null,
      "outputs": []
    },
    {
      "cell_type": "code",
      "source": [
        "import torch.nn as nn\n",
        "\n",
        "input_features = 1*28*28         # image size (grayscale) : 1x28x28\n",
        "output_labels = 10               # output labels (0-9)\n",
        "\n",
        "# Logistic regression model having weight and bias as model parameters\n",
        "model = nn.Linear(input_features, output_labels)\n",
        "\n",
        "print(model.weight.shape)\n",
        "print(model.bias.shape)"
      ],
      "metadata": {
        "id": "J2UmLPEvY9vZ"
      },
      "execution_count": null,
      "outputs": []
    },
    {
      "cell_type": "code",
      "source": [
        ""
      ],
      "metadata": {
        "id": "QKb5FkNbZmnM"
      },
      "execution_count": null,
      "outputs": []
    }
  ]
}
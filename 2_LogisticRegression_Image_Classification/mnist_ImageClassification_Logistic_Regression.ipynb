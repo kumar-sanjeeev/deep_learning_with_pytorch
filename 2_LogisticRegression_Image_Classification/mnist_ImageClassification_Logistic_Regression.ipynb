{
  "nbformat": 4,
  "nbformat_minor": 0,
  "metadata": {
    "colab": {
      "name": "mnist_ImageClassification_Logistic_Regression.ipynb",
      "provenance": [],
      "collapsed_sections": []
    },
    "kernelspec": {
      "name": "python3",
      "display_name": "Python 3"
    },
    "language_info": {
      "name": "python"
    }
  },
  "cells": [
    {
      "cell_type": "code",
      "execution_count": 60,
      "metadata": {
        "id": "0VmCzdBPtGP8"
      },
      "outputs": [],
      "source": [
        "# Importing libraries\n",
        "import numpy as np\n",
        "import matplotlib.pyplot as plt\n",
        "import torch"
      ]
    },
    {
      "cell_type": "code",
      "source": [
        "# importing torchvision for working with Image data and downloading data using classes\n",
        "import torchvision\n",
        "from torchvision.datasets import MNIST \n",
        "\n",
        "train_dataset = MNIST(root='data/', train= True, download= True)\n",
        "test_dataset = MNIST(root='data/', train= False, download= True)\n",
        "\n",
        "print(len(train_dataset))\n",
        "print(len(test_dataset))"
      ],
      "metadata": {
        "colab": {
          "base_uri": "https://localhost:8080/"
        },
        "id": "CKugEFH_tWpn",
        "outputId": "d2624ddb-8d2f-48bb-f760-45564de5efc6"
      },
      "execution_count": 61,
      "outputs": [
        {
          "output_type": "stream",
          "name": "stdout",
          "text": [
            "60000\n",
            "10000\n"
          ]
        }
      ]
    },
    {
      "cell_type": "code",
      "source": [
        "# checking the type of train and test dataset\n",
        "# it is pair having image and label\n",
        "print(train_dataset[0])\n",
        "print(test_dataset[0])"
      ],
      "metadata": {
        "colab": {
          "base_uri": "https://localhost:8080/"
        },
        "id": "J1-5u04JudG4",
        "outputId": "a0817d25-9088-47a3-a9e0-87c7869bafdc"
      },
      "execution_count": 62,
      "outputs": [
        {
          "output_type": "stream",
          "name": "stdout",
          "text": [
            "(<PIL.Image.Image image mode=L size=28x28 at 0x7F2B9C8E4B10>, 5)\n",
            "(<PIL.Image.Image image mode=L size=28x28 at 0x7F2B9C8E4C50>, 7)\n"
          ]
        }
      ]
    },
    {
      "cell_type": "code",
      "source": [
        "# plotting the image\n",
        "img,label = train_dataset[0]\n",
        "plt.imshow(img, cmap='gray')\n",
        "plt.title(f\"Label: {label}\")\n",
        "plt.show()"
      ],
      "metadata": {
        "colab": {
          "base_uri": "https://localhost:8080/",
          "height": 281
        },
        "id": "eiHXHMt4uwCl",
        "outputId": "3de35016-44bb-425b-f5bc-7b6a4772bea3"
      },
      "execution_count": 63,
      "outputs": [
        {
          "output_type": "display_data",
          "data": {
            "image/png": "[encoded data removed]",
            "text/plain": [
              "<Figure size 432x288 with 1 Axes>"
            ]
          },
          "metadata": {
            "needs_background": "light"
          }
        }
      ]
    },
    {
      "cell_type": "code",
      "source": [
        "# using transform functionality of torchvision to convert images into Tensor data\n",
        "import torchvision.transforms as transforms\n",
        "\n",
        "train_dataset = MNIST(root='data/', train= True, transform=transforms.ToTensor())\n",
        "test_dataset = MNIST(root='data/', train= False, transform=transforms.ToTensor())\n",
        "\n",
        "print(len(train_dataset))\n",
        "print(len(test_dataset))"
      ],
      "metadata": {
        "colab": {
          "base_uri": "https://localhost:8080/"
        },
        "id": "h8gZI5Xsvwmv",
        "outputId": "52218dce-f892-4bfd-f365-eb2fbb96e9ef"
      },
      "execution_count": 64,
      "outputs": [
        {
          "output_type": "stream",
          "name": "stdout",
          "text": [
            "60000\n",
            "10000\n"
          ]
        }
      ]
    },
    {
      "cell_type": "code",
      "source": [
        "# checking the above conversion to Tensor\n",
        "\n",
        "img, label = train_dataset[0]\n",
        "print(\"Image Shape: \", img.shape)"
      ],
      "metadata": {
        "colab": {
          "base_uri": "https://localhost:8080/"
        },
        "id": "vuY_idT_xqcA",
        "outputId": "757b7b22-9aff-4333-d79c-c927534f4189"
      },
      "execution_count": 65,
      "outputs": [
        {
          "output_type": "stream",
          "name": "stdout",
          "text": [
            "Image Shape:  torch.Size([1, 28, 28])\n"
          ]
        }
      ]
    },
    {
      "cell_type": "code",
      "source": [
        "\"\"\"\n",
        "Data preparation for the model. Random split the data into training_data, validation_data.\n",
        " - training data: used to train the model\n",
        " - validation data: used to evaluate the model during training, adjusting the hyperparameters( learning rate, momentum etc)\n",
        " - test data : used to compare the different models / approaches \n",
        "\n",
        "## random_split from torch utlis is used for splitting the data\n",
        "\"\"\"\n",
        "from torch.utils.data import random_split\n",
        "\n",
        "train_ds, val_ds = random_split(train_dataset, [50000,10000])\n",
        "print(len(train_ds))\n",
        "print(len(val_ds))"
      ],
      "metadata": {
        "colab": {
          "base_uri": "https://localhost:8080/"
        },
        "id": "R-auuZ_pw8Rd",
        "outputId": "8988b624-93e6-4a09-becb-1c0225b4613a"
      },
      "execution_count": 66,
      "outputs": [
        {
          "output_type": "stream",
          "name": "stdout",
          "text": [
            "50000\n",
            "10000\n"
          ]
        }
      ]
    },
    {
      "cell_type": "code",
      "source": [
        "\"\"\"\n",
        "Preparing the batches from given train_ds\n",
        "Pytorch's DataLoader is responsible for managing batches. We can create a DataLoader from any Dataset. DataLoader makes it easier to iterate over batches.\n",
        "\"\"\"\n",
        "from torch.utils.data import DataLoader\n",
        "\n",
        "batch_size = 128\n",
        "train_loader = DataLoader(train_ds, batch_size, shuffle= True)\n",
        "val_loader = DataLoader(val_ds, batch_size, shuffle= True)"
      ],
      "metadata": {
        "id": "J0AFvB9LyDF1"
      },
      "execution_count": 67,
      "outputs": []
    },
    {
      "cell_type": "code",
      "source": [
        "# Define the function to get the input_features and output_features dimensions, required to create a fully connected layer\n",
        "\n",
        "def input_output_features_dimensions(loader):\n",
        "  for img, label in loader:\n",
        "    batch, channel, height, width = img.shape\n",
        "    break\n",
        "  return {'in_dim':channel*height*width, 'out_dim': 10}\n",
        "\n",
        "x = input_output_features_dimensions(train_loader)"
      ],
      "metadata": {
        "id": "LF7SoFIY0ARX"
      },
      "execution_count": 68,
      "outputs": []
    },
    {
      "cell_type": "code",
      "source": [
        "# creating measurement unit for evaluating the model accuracy\n",
        "\n",
        "def accuracy(outputs, labels):\n",
        "\n",
        "  #output size: 128x10\n",
        "  _, index = torch.max(outputs, dim=1)   # collecting the index of max_value which tells the label (index = 128x1)\n",
        "  bool_matrix = torch.eq(index, labels)\n",
        "  correct_classified = torch.sum(bool_matrix)\n",
        "\n",
        "  return torch.tensor(correct_classified.item()/len(bool_matrix))"
      ],
      "metadata": {
        "id": "uNrB2SmM_6_u"
      },
      "execution_count": 69,
      "outputs": []
    },
    {
      "cell_type": "code",
      "source": [
        "# creating the custom MNIST model class from nn.module of pytorch using the inheritance concept of oops\n",
        "import torch.nn as nn\n",
        "import torch.nn.functional as F\n",
        "\n",
        "dim = input_output_features_dimensions(train_loader)\n",
        "input_features = dim['in_dim']\n",
        "output_features = dim['out_dim']\n",
        "\n",
        "\n",
        "class MNIST_sanjeev(nn.Module):\n",
        "\n",
        "  def __init__(self):\n",
        "    super().__init__()\n",
        "    self.fc1 = nn.Linear(input_features, output_features)   # this will create the weight and bias matrices when an object is class is created\n",
        "  \n",
        "\n",
        "  \"\"\"\"\n",
        "\n",
        "  # For understanding, it means when we create the MNIST_sanjeev class object and when we use this object as function over the batch of images, in the backend it will call the \n",
        "  __call__ magic function, which further call the self.forward(batch_image)\n",
        "  # In nutshell whenever we want to use the object of class as function we have to define this thing using __call___ magic function\n",
        "  # nn.Module\n",
        "  class Module(object):\n",
        "\n",
        "      def __call__(self, x):\n",
        "          # Simplified\n",
        "          # Actual implementation has validation and gradient tracking.\n",
        "          return self.forward(x)\n",
        "  \"\"\"\n",
        "\n",
        "  def forward(self, image_batch):\n",
        "    image_batch = image_batch.reshape(-1,input_features)    # -1 means python will automatically decide this dimension as per the input data dimension\n",
        "    out = self.fc1(image_batch)                                           \n",
        "    return out\n",
        "  \n",
        "  def training_step(self, batch):\n",
        "    imgs, labels = batch\n",
        "    out = self(imgs)               # self here denotes the obj of the class ---> for ex: model(imgs)--> which call ---> model.forward(imgs)\n",
        "    loss = F.cross_entropy(out, labels)\n",
        "    return loss\n",
        "\n",
        "  def validation_step(self, batch):\n",
        "    imgs, labels = batch\n",
        "    out = self(imgs)\n",
        "    loss = F.cross_entropy(out, labels)\n",
        "    acc = accuracy(out, labels)\n",
        "    return{'val_loss':loss, 'val_acc': acc}\n",
        "  \n",
        "  def validation_epoch_end(self, outputs):\n",
        "    batch_losses = [x['val_loss'] for x in outputs]\n",
        "    batch_accs = [x['val_acc'] for x in outputs]\n",
        "\n",
        "    epoch_loss = torch.stack(batch_losses).mean()\n",
        "    epoch_acc = torch.stack(batch_accs).mean()\n",
        "\n",
        "    return{'val_loss':epoch_loss.item(), 'val_acc':epoch_acc.item()}\n",
        "  \n",
        "  def print_epoch_end_result(self, epoch, final_result):\n",
        "    print(\"Epoch [{}], val_loss: {:.4f}, val_acc: {:.4f}\".format(epoch, final_result['val_loss'], final_result['val_acc']))\n"
      ],
      "metadata": {
        "id": "kvWDowGv2dgb"
      },
      "execution_count": 70,
      "outputs": []
    },
    {
      "cell_type": "code",
      "source": [
        "def fit(no_of_epochs, lr, model, train_loader, val_loader, opt_func =torch.optim.SGD):\n",
        "\n",
        "  optimizer = opt_func(model.parameters(), lr)\n",
        "  record = []\n",
        "\n",
        "  for epoch in range(no_of_epochs):\n",
        "\n",
        "    # Training Phase\n",
        "    for batch in train_loader:\n",
        "      loss = model.training_step(batch)\n",
        "      loss.backward()\n",
        "      optimizer.step()\n",
        "      optimizer.zero_grad()\n",
        "\n",
        "    # Validation Phase\n",
        "\n",
        "    mid_result = [model.validation_step(batch) for batch in val_loader]    # give list of dict of val_loss and val_acc\n",
        "    final_result = model.validation_epoch_end(mid_result)                  # give the epoch loss and epoch acc\n",
        "    model.print_epoch_end_result(epoch,final_result)\n",
        "\n",
        "    record.append(final_result)\n",
        "  \n",
        "  return record"
      ],
      "metadata": {
        "id": "uGGA-_PYFUpq"
      },
      "execution_count": 71,
      "outputs": []
    },
    {
      "cell_type": "code",
      "source": [
        "# creating the object of the class\n",
        "model = MNIST_sanjeev()"
      ],
      "metadata": {
        "id": "Z46epC5HH5uw"
      },
      "execution_count": 72,
      "outputs": []
    },
    {
      "cell_type": "code",
      "source": [
        "for batch in val_loader:\n",
        "  batch_1 = batch\n",
        "  break\n",
        "\n",
        "result0 = model.validation_step(batch)\n",
        "print(result0)"
      ],
      "metadata": {
        "colab": {
          "base_uri": "https://localhost:8080/"
        },
        "id": "6faf53czIJty",
        "outputId": "3415eeb8-a59a-460f-840c-b27665431a21"
      },
      "execution_count": 73,
      "outputs": [
        {
          "output_type": "stream",
          "name": "stdout",
          "text": [
            "{'val_loss': tensor(2.3288, grad_fn=<NllLossBackward0>), 'val_acc': tensor(0.1094)}\n"
          ]
        }
      ]
    },
    {
      "cell_type": "code",
      "source": [
        "history1 = fit(5,0.001, model, train_loader, val_loader)"
      ],
      "metadata": {
        "colab": {
          "base_uri": "https://localhost:8080/"
        },
        "id": "irpiVuzPIeDE",
        "outputId": "9e2b8ed2-1d81-416f-c9f6-1077613c13ab"
      },
      "execution_count": 74,
      "outputs": [
        {
          "output_type": "stream",
          "name": "stdout",
          "text": [
            "Epoch [0], val_loss: 1.9860, val_acc: 0.5938\n",
            "Epoch [1], val_loss: 1.7084, val_acc: 0.7293\n",
            "Epoch [2], val_loss: 1.4998, val_acc: 0.7687\n",
            "Epoch [3], val_loss: 1.3458, val_acc: 0.7889\n",
            "Epoch [4], val_loss: 1.2249, val_acc: 0.8015\n"
          ]
        }
      ]
    },
    {
      "cell_type": "code",
      "source": [
        "history2 = fit(5,0.001, model, train_loader, val_loader)"
      ],
      "metadata": {
        "colab": {
          "base_uri": "https://localhost:8080/"
        },
        "id": "7zAPjWsII5sW",
        "outputId": "6660dd35-9c55-48bc-833e-183b348ccfcb"
      },
      "execution_count": 75,
      "outputs": [
        {
          "output_type": "stream",
          "name": "stdout",
          "text": [
            "Epoch [0], val_loss: 1.1326, val_acc: 0.8075\n",
            "Epoch [1], val_loss: 1.0626, val_acc: 0.8135\n",
            "Epoch [2], val_loss: 0.9963, val_acc: 0.8232\n",
            "Epoch [3], val_loss: 0.9477, val_acc: 0.8259\n",
            "Epoch [4], val_loss: 0.9009, val_acc: 0.8322\n"
          ]
        }
      ]
    },
    {
      "cell_type": "code",
      "source": [
        "history3 = fit(5,0.001, model, train_loader, val_loader)"
      ],
      "metadata": {
        "colab": {
          "base_uri": "https://localhost:8080/"
        },
        "id": "UjZUlwfOI5jd",
        "outputId": "d94659f8-7164-44b1-8e1a-e185933e1863"
      },
      "execution_count": 76,
      "outputs": [
        {
          "output_type": "stream",
          "name": "stdout",
          "text": [
            "Epoch [0], val_loss: 0.8654, val_acc: 0.8353\n",
            "Epoch [1], val_loss: 0.8363, val_acc: 0.8366\n",
            "Epoch [2], val_loss: 0.8112, val_acc: 0.8382\n",
            "Epoch [3], val_loss: 0.7856, val_acc: 0.8384\n",
            "Epoch [4], val_loss: 0.7629, val_acc: 0.8428\n"
          ]
        }
      ]
    },
    {
      "cell_type": "code",
      "source": [
        "history4 = fit(5,0.001, model, train_loader, val_loader)"
      ],
      "metadata": {
        "colab": {
          "base_uri": "https://localhost:8080/"
        },
        "id": "43Jzez7yI5aU",
        "outputId": "c323d0ce-2232-46d7-e216-32d882b3b6fc"
      },
      "execution_count": 77,
      "outputs": [
        {
          "output_type": "stream",
          "name": "stdout",
          "text": [
            "Epoch [0], val_loss: 0.7413, val_acc: 0.8455\n",
            "Epoch [1], val_loss: 0.7265, val_acc: 0.8462\n",
            "Epoch [2], val_loss: 0.7083, val_acc: 0.8480\n",
            "Epoch [3], val_loss: 0.6957, val_acc: 0.8503\n",
            "Epoch [4], val_loss: 0.6805, val_acc: 0.8525\n"
          ]
        }
      ]
    },
    {
      "cell_type": "code",
      "source": [
        "history = [result0] + history1 + history2 + history3 + history4\n",
        "\n",
        "accuracies = [result['val_acc'] for result in history]\n",
        "plt.plot(accuracies, '-x')\n",
        "plt.xlabel('epoch')\n",
        "plt.ylabel('accuracy')\n",
        "plt.title('Accuracy vs No of epochs')\n",
        "plt.show()"
      ],
      "metadata": {
        "colab": {
          "base_uri": "https://localhost:8080/",
          "height": 295
        },
        "id": "OoEQlWJHI5Qa",
        "outputId": "bad1fa42-6e37-4b3c-8bb3-67e577e9dded"
      },
      "execution_count": 78,
      "outputs": [
        {
          "output_type": "display_data",
          "data": {
            "image/png": "[encoded data removed]",
            "text/plain": [
              "<Figure size 432x288 with 1 Axes>"
            ]
          },
          "metadata": {
            "needs_background": "light"
          }
        }
      ]
    },
    {
      "cell_type": "code",
      "source": [
        "# test image predication function\n",
        "\n",
        "def predict_image(img, model):\n",
        "  img = img.unsqueeze(0)       # powerful operation will add the new dimension at the zero position---> our model will take the img in {batchxchannelxheightxwidth}\n",
        "  test_output = model(img)     # will give the output vector of size 1x10 \n",
        "  _,pred = torch.max(test_output, dim=1)\n",
        "\n",
        "  return pred[0].item()"
      ],
      "metadata": {
        "id": "fdlhwqO3ecII"
      },
      "execution_count": 79,
      "outputs": []
    },
    {
      "cell_type": "markdown",
      "source": [
        "**Testing the model on the test dataset images**"
      ],
      "metadata": {
        "id": "b3PCmvVahS8J"
      }
    },
    {
      "cell_type": "code",
      "source": [
        "img,label = test_dataset[2]\n",
        "plt.imshow(img[0], cmap='gray')\n",
        "plt.title(f\"Actual label: {label}   Predicated label: {predict_image(img,model)}\")\n",
        "plt.show()"
      ],
      "metadata": {
        "colab": {
          "base_uri": "https://localhost:8080/",
          "height": 281
        },
        "id": "u0fdA03zhXfi",
        "outputId": "7f125025-d68e-4040-ace8-86591a52a2ad"
      },
      "execution_count": 80,
      "outputs": [
        {
          "output_type": "display_data",
          "data": {
            "image/png": "[encoded data removed]",
            "text/plain": [
              "<Figure size 432x288 with 1 Axes>"
            ]
          },
          "metadata": {
            "needs_background": "light"
          }
        }
      ]
    },
    {
      "cell_type": "code",
      "source": [
        "img,label = test_dataset[450]\n",
        "plt.imshow(img[0], cmap='gray')\n",
        "plt.title(f\"Actual label: {label}   Predicated label: {predict_image(img,model)}\")\n",
        "plt.show()"
      ],
      "metadata": {
        "colab": {
          "base_uri": "https://localhost:8080/",
          "height": 281
        },
        "id": "g1wKWaDwhPRD",
        "outputId": "6d36c48c-d075-498c-9588-adce501b2527"
      },
      "execution_count": 81,
      "outputs": [
        {
          "output_type": "display_data",
          "data": {
            "image/png": "[encoded data removed]",
            "text/plain": [
              "<Figure size 432x288 with 1 Axes>"
            ]
          },
          "metadata": {
            "needs_background": "light"
          }
        }
      ]
    },
    {
      "cell_type": "code",
      "source": [
        "img,label = test_dataset[6894]\n",
        "plt.imshow(img[0], cmap='gray')\n",
        "plt.title(f\"Actual label: {label}   Predicated label: {predict_image(img,model)}\")\n",
        "plt.show()"
      ],
      "metadata": {
        "colab": {
          "base_uri": "https://localhost:8080/",
          "height": 281
        },
        "id": "JjZOfU64iea9",
        "outputId": "fcce672b-4761-4374-ed87-a60d91e1ae85"
      },
      "execution_count": 82,
      "outputs": [
        {
          "output_type": "display_data",
          "data": {
            "image/png": "[encoded data removed]",
            "text/plain": [
              "<Figure size 432x288 with 1 Axes>"
            ]
          },
          "metadata": {
            "needs_background": "light"
          }
        }
      ]
    },
    {
      "cell_type": "code",
      "source": [
        "# Check how many images the our trained model has classified correctly from the test_data\n",
        "\n",
        "def test_accuracy(test_dataset, model):\n",
        "  correct_label = torch.tensor([0])\n",
        "\n",
        "  for i in range(len(test_dataset)):\n",
        "    img, label = test_dataset[i]\n",
        "    img = img.unsqueeze(0)\n",
        "    outs = model(img)\n",
        "    _, preds = torch.max(outs, dim=1)\n",
        "    if (torch.eq(preds, label)):\n",
        "      correct_label += 1\n",
        "  return correct_label / len(test_dataset)"
      ],
      "metadata": {
        "id": "Wnu-F4awimUm"
      },
      "execution_count": 83,
      "outputs": []
    },
    {
      "cell_type": "code",
      "source": [
        "acc = test_accuracy(test_dataset, model)\n",
        "print(\"Model accurarcy on test dataset: \", acc.item()*100)"
      ],
      "metadata": {
        "colab": {
          "base_uri": "https://localhost:8080/"
        },
        "id": "zrvSwbnjk6Ks",
        "outputId": "9bd22e67-2285-4eca-e18a-412a72a9ff37"
      },
      "execution_count": 84,
      "outputs": [
        {
          "output_type": "stream",
          "name": "stdout",
          "text": [
            "Model accurarcy on test dataset:  86.23999953269958\n"
          ]
        }
      ]
    }
  ]
}